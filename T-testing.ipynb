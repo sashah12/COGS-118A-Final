{
 "cells": [
  {
   "cell_type": "code",
   "execution_count": 1,
   "metadata": {},
   "outputs": [],
   "source": [
    "import numpy as np\n",
    "from scipy.stats import ttest_rel"
   ]
  },
  {
   "cell_type": "code",
   "execution_count": 2,
   "metadata": {},
   "outputs": [],
   "source": [
    "#Lists with test performance for each trial\n",
    "#Adult\n",
    "adult_svm = [0.82759, 0.82548, 0.8264]\n",
    "adult_knn = [0.82413, 0.82417, 0.82]\n",
    "adult_rf = [0.824, 0.823, 0.82449]\n",
    "#Covertype\n",
    "cov_svm = [0.76,0.7628, 0.7587]\n",
    "cov_knn = [0.779, 0.7756, 0.7782]\n",
    "cov_rf = [0.8218, 0.8146, 0.82608]\n",
    "#Letter\n",
    "letter_svm = [0.8923, 0.919, 0.886]\n",
    "letter_knn = [0.9505, 0.9535, 0.9537]\n",
    "letter_rf = [0.9449, 0.94559, 0.94539]"
   ]
  },
  {
   "cell_type": "code",
   "execution_count": 3,
   "metadata": {},
   "outputs": [
    {
     "name": "stdout",
     "output_type": "stream",
     "text": [
      "Ttest_relResult(statistic=2.5238765169739845, pvalue=0.12761818975674855)\n",
      "Ttest_relResult(statistic=5.392753658967343, pvalue=0.03270808658168681)\n",
      "Ttest_relResult(statistic=-0.6113085680021051, pvalue=0.6032218613239739)\n",
      "Ttest_relResult(statistic=-7.935625778523586, pvalue=0.015511030659130757)\n",
      "Ttest_relResult(statistic=-13.236819490442409, pvalue=0.005658926170328615)\n",
      "Ttest_relResult(statistic=-16.804695997589523, pvalue=0.0035224051776294603)\n",
      "Ttest_relResult(statistic=-5.4160452507636, pvalue=0.03244088226443116)\n",
      "Ttest_relResult(statistic=-4.62130525421406, pvalue=0.043772729144864124)\n",
      "Ttest_relResult(statistic=8.611600015911057, pvalue=0.013217664942198835)\n"
     ]
    }
   ],
   "source": [
    "#Dataset Alg. Comparison\n",
    "#Adult Dataset Algorithm Comparison\n",
    "print(ttest_rel(adult_svm, adult_knn))\n",
    "print(ttest_rel(adult_svm, adult_rf))\n",
    "print(ttest_rel(adult_knn, adult_rf))\n",
    "\n",
    "#Covertype Dataset Algorithm Comparison\n",
    "print(ttest_rel(cov_svm, cov_knn))\n",
    "print(ttest_rel(cov_svm, cov_rf))\n",
    "print(ttest_rel(cov_knn, cov_rf))\n",
    "\n",
    "#Letter Dataset Algorithm Comparison\n",
    "print(ttest_rel(letter_svm, letter_knn))\n",
    "print(ttest_rel(letter_svm, letter_rf))\n",
    "print(ttest_rel(letter_knn, letter_rf))"
   ]
  },
  {
   "cell_type": "code",
   "execution_count": 4,
   "metadata": {},
   "outputs": [
    {
     "name": "stdout",
     "output_type": "stream",
     "text": [
      "Ttest_relResult(statistic=-2.5146834648665815, pvalue=0.03610654286797922)\n",
      "Ttest_relResult(statistic=-3.4430929984688876, pvalue=0.008783689706310284)\n",
      "Ttest_relResult(statistic=-1.5678078846655759, pvalue=0.15556241874665216)\n"
     ]
    }
   ],
   "source": [
    "#Overall Alg. Comparison\n",
    "all_svm = adult_svm + cov_svm + letter_svm\n",
    "all_knn = adult_knn + cov_knn + letter_knn\n",
    "all_rf = adult_rf + cov_rf + letter_rf\n",
    "\n",
    "print(ttest_rel(all_svm, all_knn))\n",
    "print(ttest_rel(all_svm, all_rf))\n",
    "print(ttest_rel(all_knn, all_rf))"
   ]
  }
 ],
 "metadata": {
  "kernelspec": {
   "display_name": "Python 3",
   "language": "python",
   "name": "python3"
  },
  "language_info": {
   "codemirror_mode": {
    "name": "ipython",
    "version": 3
   },
   "file_extension": ".py",
   "mimetype": "text/x-python",
   "name": "python",
   "nbconvert_exporter": "python",
   "pygments_lexer": "ipython3",
   "version": "3.7.1"
  }
 },
 "nbformat": 4,
 "nbformat_minor": 2
}
